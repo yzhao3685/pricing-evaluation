{
 "cells": [
  {
   "cell_type": "code",
   "execution_count": 1,
   "id": "885861f5",
   "metadata": {},
   "outputs": [],
   "source": [
    "from gurobipy import *\n",
    "import numpy as np\n",
    "import math\n",
    "from sklearn.gaussian_process.kernels import RBF\n",
    "from scipy.optimize import minimize\n",
    "import time\n",
    "import scipy\n",
    "\n",
    "import matplotlib.pyplot as plt\n",
    "import pandas as pd\n",
    "import random\n",
    "from sklearn.linear_model import LogisticRegression\n",
    "from sklearn.preprocessing import PolynomialFeatures\n",
    "from sklearn.linear_model import LassoLarsCV\n",
    "import statistics\n",
    "import time\n",
    "import math\n",
    "from sklearn.model_selection import train_test_split\n",
    "from sklearn.metrics import mean_squared_error\n",
    "from sklearn.utils.random import sample_without_replacement\n",
    "\n",
    "t_1 = time.time()\n",
    "#parameters\n",
    "X_multiplier=7#multiplier of X in demand calculation\n",
    "priceMultiplier=1#multiplier of price in kernel\n",
    "Gamma=3\n",
    "P_low=5#3\n",
    "P_high=10\n",
    "\n",
    "sigma=1#bandwidth of kernel\n",
    "dim=1#dim of feature X\n",
    "\n",
    "def policy_to_evaluate(x,p):\n",
    "    return 0.9*p\n",
    "\n",
    "def expected_demand(x_arr,p_arr):\n",
    "    #d_arr=(x_arr*X_multiplier-p_arr+P_high)/(P_high-P_low+X_multiplier)\n",
    "    d_arr=(5*x_arr+3*(P_high-p_arr)-10)/10\n",
    "    d_arr=np.minimum(d_arr,1)\n",
    "    d_arr=np.maximum(d_arr,0)\n",
    "    return d_arr\n",
    "\n",
    "def realized_demand(x_arr,p_arr,rndseed):\n",
    "    np.random.seed(rndseed+52028)\n",
    "    return np.random.binomial(1,expected_demand(x_arr,p_arr))\n",
    "    \n",
    "#generate training dataset\n",
    "rndseed=1848#927\n",
    "train_size=30\n",
    "np.random.seed(rndseed+883)\n",
    "X_train=np.random.uniform(0,1,train_size)\n",
    "\n",
    "np.random.seed(rndseed+428)\n",
    "X_train=np.random.uniform(0,0.2,train_size)\n",
    "X_train[10:20]+=0.4\n",
    "X_train[20:30]+=0.8\n",
    "\n",
    "#np.random.seed(rndseed+5325)\n",
    "#P_train=np.random.uniform(P_low,P_high,train_size)\n",
    "P_train=P_high-(P_high-P_low)*X_train#deterministic pricing\n",
    "D_train=realized_demand(X_train,P_train,rndseed+917)\n",
    "\n",
    "#generate testing dataset\n",
    "P_test=np.zeros(train_size)\n",
    "for i in range(0,train_size):\n",
    "    P_test[i]=policy_to_evaluate(X_train[i],P_train[i])\n",
    "\n",
    "#pre-compute values needed\n",
    "R_train=np.multiply(D_train,P_train)\n",
    "expected_R_train=np.multiply(P_train,expected_demand(X_train,P_train))\n",
    "expected_R_test=np.multiply(P_test,expected_demand(X_train,P_test))\n",
    "expected_val_test=sum(expected_R_test)/train_size\n",
    "\n",
    "#for computing kernel only: normalize prices, and multiply by given factor\n",
    "P_train_norm=priceMultiplier*(P_train-P_low)/ (P_high-P_low)\n",
    "\n",
    "Z_train=np.zeros((train_size,dim+1))\n",
    "for i in range(0,train_size):\n",
    "    Z_train[i]=np.append(X_train[i],P_train_norm[i])#historical policy\n",
    "Y_train=np.zeros((train_size,dim+1))\n",
    "for i in range(0,train_size):\n",
    "    Y_train[i]=np.append(X_train[i],policy_to_evaluate(X_train[i],P_train_norm[i]))#new policy\n",
    "\n",
    "#gram matrix\n",
    "kernel = RBF(sigma)\n",
    "Z_and_Y=np.zeros((train_size*2,dim+1))\n",
    "Z_and_Y[0:train_size,:]=Z_train\n",
    "Z_and_Y[train_size:2*train_size,:]=Y_train\n",
    "G=kernel(Z_and_Y)\n",
    "G=G+0.0001*np.identity(train_size*2)#make G positive semi-definite\n",
    "C=np.linalg.cholesky(G*2)#C is lower triangular, CC^\\top=G\n",
    "\n",
    "#preparation\n",
    "rowSumHalfG=np.transpose(np.sum(G[:,train_size:2*train_size],axis=1).reshape(-1,1))#sum each row of right half of G\n",
    "D3=np.transpose(rowSumHalfG).dot(rowSumHalfG)/(train_size**2)#the third term in Dw\n",
    "arr_m=np.zeros((train_size,train_size*2,train_size*2))\n",
    "for i in range(0,train_size):\n",
    "    temp2=G[:,i].reshape(-1,1)\n",
    "    arr_m[i]=temp2.dot(np.transpose(temp2))"
   ]
  },
  {
   "cell_type": "code",
   "execution_count": 2,
   "id": "15a450d7",
   "metadata": {},
   "outputs": [],
   "source": [
    "#Nathan's method\n",
    "#input penalty parameter lambda. Output weights\n",
    "def nathans_method(lamda): \n",
    "    G_aug=np.copy(G)\n",
    "    for i in range(0,train_size):\n",
    "        G_aug[i][i]=G_aug[i][i]+lamda**2#add variance term\n",
    "\n",
    "    #evals and evectors of G\n",
    "    evals,evecs=scipy.linalg.eigh(G_aug, eigvals_only=False)#this method assumes real symmetric matrix, and is fast\n",
    "    A=np.diag(evals)\n",
    "    c=np.sum(evecs[0:train_size,0:2*train_size],axis=0)\n",
    "\n",
    "    #build optimization model\n",
    "    m = Model()\n",
    "    m.Params.LogToConsole = 0#suppress Gurobipy printing\n",
    "    # Add variables\n",
    "    v=m.addMVar ( train_size*2, ub=100.0,lb=-100.0,name=\"v\" )\n",
    "    # Set objective function\n",
    "    #m.Params.OptimalityTol=0.01\n",
    "    m.setObjective(v@A@v, GRB.MINIMIZE) \n",
    "    # Add constraints\n",
    "    #m.addConstr(v@c==1)#now remove the simplex contraint\n",
    "    m.addConstr(evecs[train_size:2*train_size,0:2*train_size]@v==-np.ones(train_size)/train_size)\n",
    "    #m.addConstr(S[0:train_size,0:2*train_size]@v>=-np.zeros(train_size))#w_i>=0\n",
    "    #m.params.method=0#0 is primal simplex, 1 is dual simplex, 2 is barrier\n",
    "    m.update()\n",
    "    m.optimize()\n",
    "\n",
    "    #get weights\n",
    "    v_star=np.zeros(2*train_size)\n",
    "    for i in range(0,2*train_size):\n",
    "        v_star[i]=v[i].x\n",
    "    w=evecs[0:train_size,0:2*train_size]@v_star\n",
    "    \n",
    "    return w"
   ]
  },
  {
   "cell_type": "code",
   "execution_count": 3,
   "id": "2692fbd7",
   "metadata": {},
   "outputs": [],
   "source": [
    "#subroutine that computes phi(w) using binary search\n",
    "#input: weights. output: phi(w) and gradient\n",
    "def subroutine_binary_search(weights,Gamma):\n",
    "\n",
    "    #compute D(w)\n",
    "    wSumHalfG=(G[:,0:train_size].dot(weights)).reshape(-1,1)\n",
    "    D2=2*wSumHalfG.dot(rowSumHalfG)/train_size#the second term in Dw\n",
    "    D1=wSumHalfG.dot(np.transpose(wSumHalfG))#the first term in Dw\n",
    "    for i in range(0,train_size):\n",
    "        D1=D1-arr_m[i]*weights[i]**2\n",
    "    Dw=-2*D1+D2+np.transpose(D2)-2*D3#Dw may not be PSD\n",
    "\n",
    "    #compute S\n",
    "    M=np.linalg.solve(C,Dw)#solve matrix M for CM=Dw\n",
    "    B=np.linalg.solve(C,np.transpose(M))#solve matrix B for CB=M^\\top\n",
    "\n",
    "    evals,evecs=scipy.linalg.eigh(B, eigvals_only=False)#symmetric QR\n",
    "    Q=np.copy(evecs)\n",
    "    delta=np.copy(evals)\n",
    "    S=np.linalg.solve(np.transpose(C),Q)\n",
    "    \n",
    "    #compute bw, epsilon\n",
    "    temp2=np.multiply(np.multiply(weights,weights),P_train)\n",
    "    bw=-G[:,0:train_size]@temp2\n",
    "    epsilon=np.transpose(S).dot(bw)\n",
    "    \n",
    "    #binary search algorithm\n",
    "    lambda_L=max(0,-min(delta))#ensure delta+lambda_L>=0\n",
    "    lambda_U=100\n",
    "    tol=0.000000001      \n",
    "    while lambda_U-lambda_L>=tol:\n",
    "        lambda_M=(lambda_U+lambda_L)/2\n",
    "        x_star=np.divide(-epsilon,delta+lambda_M)\n",
    "        if np.linalg.norm(x_star)>Gamma*(2**0.5):\n",
    "            lambda_L=lambda_M\n",
    "        else:\n",
    "            lambda_U=lambda_M \n",
    "    optimal_dual=lambda_U\n",
    "    x_star=np.divide(-epsilon,delta+optimal_dual) #recover opti primal variable from opti dual variable\n",
    "    \n",
    "    #get key values\n",
    "    obj = np.multiply(delta,x_star)@x_star/2+epsilon@x_star\n",
    "    obj_val = -obj #return phi(w) \n",
    "    q=S@x_star#worst case r()\n",
    "    \n",
    "    #compute gradient\n",
    "    grad=np.zeros(train_size)\n",
    "    for i in range(0,train_size):\n",
    "        temp1=np.transpose(G[:,i]).reshape(-1,1)\n",
    "        temp2=np.transpose(wSumHalfG)-weights[i]*np.transpose(temp1)-rowSumHalfG/train_size\n",
    "        Hessian=2*temp1.dot(temp2)\n",
    "        grad[i]=q.dot(Hessian.dot(np.transpose(q)))\n",
    "        grad[i]=grad[i]+2*weights[i]*P_train[i]*np.transpose(G[:,i]).dot(q)\n",
    "    \n",
    "    return obj_val,grad"
   ]
  },
  {
   "cell_type": "code",
   "execution_count": 4,
   "id": "153f7646",
   "metadata": {},
   "outputs": [],
   "source": [
    "#compute gradients using finite central diffs\n",
    "#input weights and objective value at this set of weights\n",
    "def finite_centra_diff(weights,obj_1,Gamma):\n",
    "    finite_central_grad=np.zeros(train_size)\n",
    "    h=0.0001\n",
    "    for i in range(0,train_size):    \n",
    "        w_temp=np.copy(weights)\n",
    "        w_temp[i]=w_temp[i]+h\n",
    "        obj_2,_=subroutine_binary_search(w_temp,Gamma)\n",
    "\n",
    "        finite_central_grad[i]=(obj_2-obj_1)/(h)\n",
    "    return finite_central_grad"
   ]
  },
  {
   "cell_type": "code",
   "execution_count": 5,
   "id": "90bb2640",
   "metadata": {
    "scrolled": true
   },
   "outputs": [],
   "source": [
    "#main loop. Frank-Wolfe algorithm \n",
    "#compute weights that minimize MSE(w) \n",
    "def PGD(w,Gamma):\n",
    "\n",
    "    #main loop. Frank-Wolfe algorithm. Now use binary search\n",
    "    obj_val_old,grad=subroutine_binary_search(w,Gamma) \n",
    "    #print('initial objective value: ',obj_val_old) \n",
    "    #if Gamma>3:\n",
    "    #    grad=finite_centra_diff(w,obj_val_old,Gamma)\n",
    "\n",
    "    k=1 \n",
    "    L=max(10,Gamma*100)#a guess on lipschitz constant of phi(w) \n",
    "    maxIter=500\n",
    "    MSE_arr=np.zeros(maxIter+1) \n",
    "    MSE_arr[0]=obj_val_old \n",
    "    stepSize_arr=np.zeros(maxIter+1) \n",
    "    step_size=1\n",
    "    gt=1\n",
    "    eta=0.1#parameter in Armijo rule\n",
    "    tau=0.8#parameter in Armijo rule\n",
    "    counter_small_steps=0\n",
    "    while (k<=maxIter and counter_small_steps<20):\n",
    "\n",
    "        #compute descent direction\n",
    "        #if Gamma>3:#when Gamma>3, Danskin's Theorem no longer apply\n",
    "        #    grad=finite_centra_diff(w,obj_val_old,Gamma)\n",
    "        \n",
    "        #initial step size\n",
    "        descent_dir=-grad\n",
    "        gt=-grad@descent_dir\n",
    "        step_size=1/L\n",
    "        #step_size=min(gt/(L*descent_dir@descent_dir),1)\n",
    "\n",
    "        #project\n",
    "        w_toProject=w-step_size*grad\n",
    "        w_projected=np.maximum(w_toProject,np.zeros(train_size))\n",
    "        obj_val_new,grad=subroutine_binary_search(w_projected,Gamma)\n",
    "\n",
    "        #Backtracking. Use Armijo rule for step size\n",
    "        counter_Armijo=0\n",
    "        while obj_val_old-obj_val_new<step_size*gt*eta and counter_Armijo<20:\n",
    "            counter_Armijo+=1\n",
    "            step_size=step_size*tau\n",
    "            w_toProject=w-step_size*grad\n",
    "            w_projected=np.maximum(w_toProject,np.zeros(train_size))\n",
    "            obj_val_new,grad=subroutine_binary_search(w_projected,Gamma)\n",
    "        \n",
    "            if counter_Armijo==20:\n",
    "                counter_small_steps+=1\n",
    "\n",
    "        obj_val_old=obj_val_new\n",
    "        #store key outputs\n",
    "        MSE_arr[k]=obj_val_new\n",
    "        stepSize_arr[k]=step_size\n",
    "\n",
    "        #update weights\n",
    "        w=w+step_size*descent_dir\n",
    "        #if (k % 100==0):\n",
    "            #print('iter: ',k,'obj val: ',obj_val_new,'gt: ',gt,'min grad: ',min(grad),'coord: ',ind)\n",
    "        k=k+1\n",
    "        #if counter_small_steps==20:\n",
    "            #print('Gamma= ',Gamma, 'terminated before maxIter')\n",
    "\n",
    "    #truncate dummy values\n",
    "    total_iter=k\n",
    "    MSE_arr=MSE_arr[0:k]\n",
    "    stepSize_arr=stepSize_arr[0:k]\n",
    "    \n",
    "    return w,MSE_arr"
   ]
  },
  {
   "cell_type": "markdown",
   "id": "599884a5",
   "metadata": {},
   "source": []
  },
  {
   "cell_type": "code",
   "execution_count": 6,
   "id": "66432c06",
   "metadata": {},
   "outputs": [],
   "source": [
    "#compute true MSE, use our formula for MSE\n",
    "def true_MSE(w):\n",
    "    bias=w@expected_R_train-expected_val_test\n",
    "    #temp1=np.multiply(R_train,P_train-R_train)#this will be zeros since R_train is either P_train or zero\n",
    "    temp1=np.multiply(expected_R_train,P_train-expected_R_train)\n",
    "    temp2=np.multiply(w,w)\n",
    "    variance=temp1@temp2\n",
    "    #variance=expected_R_test@(P_test-expected_R_test)/(train_size**2)\n",
    "    return bias**2,variance,bias**2+variance"
   ]
  },
  {
   "cell_type": "code",
   "execution_count": 7,
   "id": "3826830c",
   "metadata": {
    "scrolled": true
   },
   "outputs": [
    {
     "name": "stdout",
     "output_type": "stream",
     "text": [
      "Academic license - for non-commercial use only - expires 2022-09-08\n",
      "Using license file C:\\Users\\yunfan\\gurobi.lic\n",
      "Gamma=  0.05  complete\n",
      "Gamma=  0.1  complete\n",
      "Gamma=  0.15000000000000002  complete\n",
      "Gamma=  0.2  complete\n",
      "Gamma=  0.25  complete\n",
      "Gamma=  0.30000000000000004  complete\n",
      "Gamma=  0.35000000000000003  complete\n",
      "Gamma=  0.4  complete\n",
      "Gamma=  0.45  complete\n",
      "Gamma=  0.5  complete\n",
      "Gamma=  1.0  complete\n",
      "Gamma=  2.0  complete\n",
      "Gamma=  3.0  complete\n",
      "Gamma=  4.0  complete\n",
      "Gamma=  5.0  complete\n",
      "Gamma=  6.0  complete\n",
      "Gamma=  7.0  complete\n",
      "Gamma=  8.0  complete\n",
      "Gamma=  9.0  complete\n",
      "Gamma=  10.0  complete\n",
      "Gamma=  12.0  complete\n",
      "Gamma=  14.0  complete\n",
      "Gamma=  16.0  complete\n",
      "Gamma=  18.0  complete\n",
      "Gamma=  20.0  complete\n",
      "optimal Gamma=  3.0\n"
     ]
    }
   ],
   "source": [
    "#main loop\n",
    "#test our method for oracle Gamma\n",
    "w_0=nathans_method(1)#starting point for our weights\n",
    "#Gamma_list=np.append(np.arange(1,6)*0.05,np.arange(1,11)*1)\n",
    "Gamma_list=np.append(np.arange(1,11)*0.05,np.arange(1,11))\n",
    "Gamma_list=np.append(Gamma_list,np.arange(6,11)*2)\n",
    "true_MSE_ours=np.zeros(len(Gamma_list))\n",
    "worst_MSE_ours=np.zeros(len(Gamma_list))\n",
    "est_val_ours=np.zeros(len(Gamma_list))\n",
    "var_ours=np.zeros(len(Gamma_list))\n",
    "w_ours_all=np.zeros((len(Gamma_list),train_size))\n",
    "w_ours=np.copy(w_0)\n",
    "for l in range(0,len(Gamma_list)):\n",
    "    Gamma=Gamma_list[l]\n",
    "    w_ours,MSE_arr=PGD(w_ours,Gamma)#warm start at previous soln\n",
    "    w_ours_all[l]=np.copy(w_ours)#store outputs\n",
    "    _,var_ours[l],true_MSE_ours[l]=true_MSE(w_ours)\n",
    "    worst_MSE_ours[l],_=subroutine_binary_search(w_ours,Gamma)\n",
    "    #est_val_ours[l]=w_ours@R_train\n",
    "    est_val_ours[l]=w_ours@expected_R_train\n",
    "    print('Gamma= ',Gamma,' complete')\n",
    "optimal_Gamma=Gamma_list[np.argmin(true_MSE_ours)]\n",
    "print('optimal Gamma= ',optimal_Gamma)"
   ]
  },
  {
   "cell_type": "code",
   "execution_count": 8,
   "id": "b60c03c8",
   "metadata": {},
   "outputs": [
    {
     "name": "stdout",
     "output_type": "stream",
     "text": [
      "optimal lambda=  0.0005\n",
      "run time:  95.62122225761414\n"
     ]
    }
   ],
   "source": [
    "#test nathan's method for oracle lambda\n",
    "lamda_list=np.append(np.arange(1,100)*0.0005,np.arange(1,201)*0.05)\n",
    "true_MSE_nathan=np.zeros(len(lamda_list))\n",
    "worst_MSE_nathan=np.zeros(len(lamda_list))\n",
    "est_val_nathan=np.zeros(len(lamda_list))\n",
    "var_nathan=np.zeros(len(lamda_list))\n",
    "w_nathan_all=np.zeros((len(lamda_list),train_size))\n",
    "for l in range(0,len(lamda_list)):\n",
    "    lamda=lamda_list[l]\n",
    "    w_nathan=nathans_method(lamda)\n",
    "    w_nathan_all[l]=w_nathan\n",
    "    _,var_nathan[l],true_MSE_nathan[l]=true_MSE(w_nathan)\n",
    "    worst_MSE_nathan[l],_=subroutine_binary_search(w_nathan,3)\n",
    "    #est_val_nathan[l]=w_nathan@R_train\n",
    "    est_val_nathan[l]=w_nathan@expected_R_train\n",
    "    #if l%10==0:\n",
    "        #print('lambda= ',lamda,' complete')\n",
    "optimal_lambda=lamda_list[np.argmin(true_MSE_nathan)]\n",
    "print('optimal lambda= ',optimal_lambda)\n",
    "\n",
    "t_2 = time.time()\n",
    "print('run time: ',t_2-t_1)"
   ]
  },
  {
   "cell_type": "code",
   "execution_count": 9,
   "id": "a900c8fa",
   "metadata": {},
   "outputs": [
    {
     "data": {
      "image/png": "[encoded data removed]",
      "text/plain": [
       "<Figure size 432x288 with 1 Axes>"
      ]
     },
     "metadata": {
      "needs_background": "light"
     },
     "output_type": "display_data"
    }
   ],
   "source": [
    "#plot our MSE against gamma\n",
    "from matplotlib import pyplot\n",
    "pyplot.plot(Gamma_list, true_MSE_ours,label='true MSE')\n",
    "pyplot.plot(Gamma_list, np.subtract(true_MSE_ours,var_ours),label='bias^2')\n",
    "pyplot.plot(Gamma_list, var_ours,label='variance')\n",
    "\n",
    "pyplot.plot(Gamma_list, worst_MSE_ours,label='worst case MSE')\n",
    "plt.scatter(Gamma_list[np.argmin(true_MSE_ours)],min(true_MSE_ours),s=20,color=\"blue\",label='min true MSE')\n",
    "\n",
    "plt.scatter(Gamma_list, true_MSE_ours,alpha=0.5)\n",
    "plt.scatter(Gamma_list, worst_MSE_ours,alpha=0.5)\n",
    "#plt.axvline(x=approx_rkhs_norm, color='g', linestyle=':', linewidth=3\n",
    "#           ,label='true RKHS norm of r')#vertical line at true RKHS norm of rev fun\n",
    "pyplot.title('our method')\n",
    "pyplot.xlabel('Gamma')\n",
    "pyplot.ylabel('')\n",
    "pyplot.legend(bbox_to_anchor = (1.0, 1), loc = 'upper center')\n",
    "pyplot.show()"
   ]
  },
  {
   "cell_type": "code",
   "execution_count": 11,
   "id": "534a6f4c",
   "metadata": {},
   "outputs": [
    {
     "data": {
      "image/png": "[encoded data removed]",
      "text/plain": [
       "<Figure size 432x288 with 1 Axes>"
      ]
     },
     "metadata": {
      "needs_background": "light"
     },
     "output_type": "display_data"
    }
   ],
   "source": [
    "#zoom in on opt param for our method\n",
    "from matplotlib import pyplot\n",
    "ours_opt_index=np.argmin(true_MSE_ours)\n",
    "lower_index=max(0,ours_opt_index-5)\n",
    "upper_index=min(ours_opt_index+5,len(Gamma_list))\n",
    "pyplot.plot(Gamma_list[lower_index:upper_index], true_MSE_ours[lower_index:upper_index],label='true MSE')\n",
    "pyplot.plot(Gamma_list[lower_index:upper_index], np.subtract(true_MSE_ours,var_ours)[lower_index:upper_index],label='bias^2')\n",
    "pyplot.plot(Gamma_list[lower_index:upper_index], var_ours[lower_index:upper_index],label='variance')\n",
    "\n",
    "plt.scatter(Gamma_list[np.argmin(true_MSE_ours)],min(true_MSE_ours),s=50,color=\"black\",label='min true MSE')\n",
    "plt.scatter(Gamma_list[lower_index:upper_index], true_MSE_ours[lower_index:upper_index],alpha=0.5)\n",
    "pyplot.title('our method')\n",
    "pyplot.xlabel('Gamma')\n",
    "pyplot.ylabel('')\n",
    "pyplot.legend(bbox_to_anchor = (1.0, 1), loc = 'upper center')\n",
    "pyplot.show()"
   ]
  },
  {
   "cell_type": "code",
   "execution_count": 12,
   "id": "ee84208e",
   "metadata": {},
   "outputs": [
    {
     "data": {
      "image/png": "[encoded data removed]",
      "text/plain": [
       "<Figure size 432x288 with 1 Axes>"
      ]
     },
     "metadata": {
      "needs_background": "light"
     },
     "output_type": "display_data"
    }
   ],
   "source": [
    "#plot nathans MSE against gamma\n",
    "from matplotlib import pyplot\n",
    "pyplot.plot(lamda_list, true_MSE_nathan,label='true MSE')\n",
    "pyplot.plot(lamda_list, np.subtract(true_MSE_nathan,var_nathan),label='bias^2')\n",
    "pyplot.plot(lamda_list, var_nathan,label='variance')\n",
    "\n",
    "pyplot.plot(lamda_list, worst_MSE_nathan,label='worst case MSE')\n",
    "#plt.scatter(lamda_list[np.argmin(true_MSE_nathan)],min(true_MSE_nathan),s=20,color=\"blue\",label='min true MSE')\n",
    "#plt.scatter(lamda_list, true_MSE_nathan,alpha=0.5)\n",
    "#plt.scatter(lamda_list, worst_MSE_nathan,alpha=0.5)\n",
    "pyplot.title('Nathans method MSE')\n",
    "pyplot.xlabel('lambda')\n",
    "pyplot.ylabel('')\n",
    "pyplot.legend(bbox_to_anchor = (1.0, 1), loc = 'upper center')\n",
    "pyplot.show()"
   ]
  },
  {
   "cell_type": "code",
   "execution_count": 13,
   "id": "006a6a99",
   "metadata": {},
   "outputs": [
    {
     "data": {
      "image/png": "[encoded data removed]",
      "text/plain": [
       "<Figure size 432x288 with 1 Axes>"
      ]
     },
     "metadata": {
      "needs_background": "light"
     },
     "output_type": "display_data"
    }
   ],
   "source": [
    "#zoom in on opt param for nathans method\n",
    "from matplotlib import pyplot\n",
    "nathan_opt_index=np.argmin(true_MSE_nathan)\n",
    "lower_index=max(0,nathan_opt_index-5)\n",
    "upper_index=min(nathan_opt_index+5,len(lamda_list))\n",
    "pyplot.plot(lamda_list[lower_index:upper_index], true_MSE_nathan[lower_index:upper_index],label='true MSE')\n",
    "pyplot.plot(lamda_list[lower_index:upper_index], np.subtract(true_MSE_nathan,var_nathan)[lower_index:upper_index],label='bias^2')\n",
    "pyplot.plot(lamda_list[lower_index:upper_index], var_nathan[lower_index:upper_index],label='variance')\n",
    "\n",
    "plt.scatter(lamda_list[np.argmin(true_MSE_nathan)],min(true_MSE_nathan),s=50,color=\"black\",label='min true MSE')\n",
    "plt.scatter(lamda_list[lower_index:upper_index], true_MSE_nathan[lower_index:upper_index],alpha=0.5)\n",
    "pyplot.title('Nathans method')\n",
    "pyplot.xlabel('lambda')\n",
    "pyplot.ylabel('')\n",
    "pyplot.legend(bbox_to_anchor = (1.0, 1), loc = 'upper center')\n",
    "pyplot.show()"
   ]
  },
  {
   "cell_type": "code",
   "execution_count": 14,
   "id": "39da3085",
   "metadata": {},
   "outputs": [
    {
     "data": {
      "image/png": "[encoded data removed]",
      "text/plain": [
       "<Figure size 432x288 with 1 Axes>"
      ]
     },
     "metadata": {
      "needs_background": "light"
     },
     "output_type": "display_data"
    }
   ],
   "source": [
    "#plot weights with optimal parameters\n",
    "from matplotlib import pyplot\n",
    "plt.scatter(X_train, w_ours_all[np.argmin(true_MSE_ours)],alpha=0.5,label='our weights, Gamma= '+str(optimal_Gamma))\n",
    "#plt.scatter(X_train, w_ours_all[1],alpha=0.5,label='our weights, Gamma= '+str(Gamma_list[1]))\n",
    "plt.scatter(X_train, w_nathan_all[np.argmin(true_MSE_nathan)],alpha=0.5,label='Nathans weights, lambda= '+str(optimal_lambda))\n",
    "pyplot.title('weights with optimal parameters')\n",
    "pyplot.xlabel('feature X')\n",
    "pyplot.ylabel('weights')\n",
    "pyplot.legend(bbox_to_anchor = (1.0, 1), loc = 'upper center')\n",
    "pyplot.show()"
   ]
  },
  {
   "cell_type": "code",
   "execution_count": 15,
   "id": "dd3e4918",
   "metadata": {},
   "outputs": [
    {
     "data": {
      "image/png": "[encoded data removed]",
      "text/plain": [
       "<Figure size 432x288 with 1 Axes>"
      ]
     },
     "metadata": {
      "needs_background": "light"
     },
     "output_type": "display_data"
    }
   ],
   "source": [
    "#plot sum of weights for each value of Gamma\n",
    "from matplotlib import pyplot\n",
    "sum_weights=np.sum(w_ours_all,axis=1)\n",
    "plt.scatter(Gamma_list, sum_weights,alpha=0.5,label='sum of weights')\n",
    "plt.scatter(Gamma_list[np.argmin(true_MSE_ours)],sum_weights[np.argmin(true_MSE_ours)],s=20,color=\"red\",label='opt Gamma')\n",
    "\n",
    "pyplot.title('our method sum of weights against Gamma')\n",
    "pyplot.xlabel('Gamma')\n",
    "pyplot.ylabel('')\n",
    "pyplot.legend(bbox_to_anchor = (1.0, 1), loc = 'upper center')\n",
    "pyplot.show()"
   ]
  },
  {
   "cell_type": "code",
   "execution_count": 16,
   "id": "5ec8213f",
   "metadata": {},
   "outputs": [
    {
     "data": {
      "image/png": "[encoded data removed]",
      "text/plain": [
       "<Figure size 432x288 with 1 Axes>"
      ]
     },
     "metadata": {
      "needs_background": "light"
     },
     "output_type": "display_data"
    }
   ],
   "source": [
    "#plot sum of weights for each value of lambda\n",
    "from matplotlib import pyplot\n",
    "sum_weights=np.sum(w_nathan_all,axis=1)\n",
    "#plt.scatter(lamda_list, sum_weights,alpha=0.5,label='sum of weights')\n",
    "plt.plot(lamda_list, sum_weights,label='sum of weights')\n",
    "plt.scatter(lamda_list[np.argmin(true_MSE_nathan)],sum_weights[np.argmin(true_MSE_nathan)],s=20,color=\"red\",label='opt lambda')\n",
    "\n",
    "pyplot.title('Nathans method sum of weights against lambda')\n",
    "pyplot.xlabel('lambda')\n",
    "pyplot.ylabel('')\n",
    "pyplot.legend(bbox_to_anchor = (1.0, 1), loc = 'upper center')\n",
    "pyplot.show()"
   ]
  },
  {
   "cell_type": "code",
   "execution_count": 17,
   "id": "75ba1af0",
   "metadata": {},
   "outputs": [
    {
     "name": "stdout",
     "output_type": "stream",
     "text": [
      "with optimal parameters\n",
      "our method MSE:  0.12931653448999175\n",
      "Nathans method MSE:  0.30645202111511277\n"
     ]
    }
   ],
   "source": [
    "print('with optimal parameters')\n",
    "print('our method MSE: ',min(true_MSE_ours))\n",
    "print('Nathans method MSE: ',min(true_MSE_nathan))"
   ]
  },
  {
   "cell_type": "code",
   "execution_count": null,
   "id": "ff897215",
   "metadata": {},
   "outputs": [
    {
     "name": "stdout",
     "output_type": "stream",
     "text": [
      "optimal Gamma=  3.0\n"
     ]
    }
   ],
   "source": [
    "#now repeat above for different training datasets\n",
    "numTrial=10\n",
    "optimal_Gamma_list=np.zeros(numTrial)\n",
    "optimal_lambda_list=np.zeros(numTrial)\n",
    "true_MSE_ours_optimal_Gamma=np.zeros(numTrial)\n",
    "true_MSE_nathan_optimal_lambda=np.zeros(numTrial)\n",
    "\n",
    "for j in range(0,numTrial):    \n",
    "    #################################################################################################\n",
    "    #generate training dataset\n",
    "    rndseed=23497+j*439\n",
    "    np.random.seed(rndseed+883)\n",
    "    X_train=np.random.uniform(0,1,train_size)\n",
    "    \n",
    "    np.random.seed(rndseed+428)\n",
    "    X_train=np.random.uniform(0,0.2,train_size)\n",
    "    X_train[10:20]+=0.4\n",
    "    X_train[20:30]+=0.8\n",
    "    \n",
    "    P_train=P_high-(P_high-P_low)*X_train#deterministic pricing\n",
    "    D_train=realized_demand(X_train,P_train,rndseed+917)\n",
    "\n",
    "    #generate testing dataset\n",
    "    P_test=np.zeros(train_size)\n",
    "    for i in range(0,train_size):\n",
    "        P_test[i]=policy_to_evaluate(X_train[i],P_train[i])\n",
    "\n",
    "    #pre-compute values needed\n",
    "    R_train=np.multiply(D_train,P_train)\n",
    "    expected_R_train=np.multiply(P_train,expected_demand(X_train,P_train))\n",
    "    expected_R_test=np.multiply(P_test,expected_demand(X_train,P_test))\n",
    "    expected_val_test=sum(expected_R_test)/train_size\n",
    "\n",
    "    #for computing kernel only: normalize prices, and multiply by given factor\n",
    "    P_train_norm=priceMultiplier*(P_train-P_low)/ (P_high-P_low)\n",
    "\n",
    "    Z_train=np.zeros((train_size,dim+1))\n",
    "    for i in range(0,train_size):\n",
    "        Z_train[i]=np.append(X_train[i],P_train_norm[i])#historical policy\n",
    "    Y_train=np.zeros((train_size,dim+1))\n",
    "    for i in range(0,train_size):\n",
    "        Y_train[i]=np.append(X_train[i],policy_to_evaluate(X_train[i],P_train_norm[i]))#new policy\n",
    "\n",
    "    #gram matrix\n",
    "    Z_and_Y=np.zeros((train_size*2,dim+1))\n",
    "    Z_and_Y[0:train_size,:]=Z_train\n",
    "    Z_and_Y[train_size:2*train_size,:]=Y_train\n",
    "    G=kernel(Z_and_Y)\n",
    "    G=G+0.0001*np.identity(train_size*2)#make G positive semi-definite\n",
    "    C=np.linalg.cholesky(G*2)#C is lower triangular, CC^\\top=G\n",
    "\n",
    "    #preparation\n",
    "    rowSumHalfG=np.transpose(np.sum(G[:,train_size:2*train_size],axis=1).reshape(-1,1))#sum each row of right half of G\n",
    "    D3=np.transpose(rowSumHalfG).dot(rowSumHalfG)/(train_size**2)#the third term in Dw\n",
    "    arr_m=np.zeros((train_size,train_size*2,train_size*2))\n",
    "    for i in range(0,train_size):\n",
    "        temp2=G[:,i].reshape(-1,1)\n",
    "        arr_m[i]=temp2.dot(np.transpose(temp2))\n",
    "\n",
    "\n",
    "    ###################################################################################################\n",
    "    #main loop\n",
    "    #test our method for oracle Gamma\n",
    "    w_0=nathans_method(1)#starting point for our weights\n",
    "    #Gamma_list=np.append(np.arange(1,6)*0.05,np.arange(1,11)*1)\n",
    "    Gamma_list=np.append(np.arange(1,11)*0.05,np.arange(1,11))\n",
    "    true_MSE_ours=np.zeros(len(Gamma_list))\n",
    "    worst_MSE_ours=np.zeros(len(Gamma_list))\n",
    "    est_val_ours=np.zeros(len(Gamma_list))\n",
    "    w_ours_all=np.zeros((len(Gamma_list),train_size))\n",
    "    w_ours=np.copy(w_0)\n",
    "    for l in range(0,len(Gamma_list)):\n",
    "        Gamma=Gamma_list[l]\n",
    "        w_ours,MSE_arr=PGD(w_ours,Gamma)#warm start at previous soln\n",
    "        w_ours_all[l]=np.copy(w_ours)#store outputs\n",
    "        _,_,true_MSE_ours[l]=true_MSE(w_ours)\n",
    "        worst_MSE_ours[l],_=subroutine_binary_search(w_ours,Gamma)\n",
    "        est_val_ours[l]=w_ours@R_train\n",
    "    optimal_Gamma=Gamma_list[np.argmin(true_MSE_ours)]\n",
    "    print('optimal Gamma= ',optimal_Gamma)\n",
    "    optimal_Gamma_list[j]=optimal_Gamma\n",
    "    true_MSE_ours_optimal_Gamma[j]=min(true_MSE_ours)\n",
    "    \n",
    "    ########################################################################################################\n",
    "    #test nathan's method for oracle lambda\n",
    "    lamda_list=np.append(np.arange(1,100)*0.0005,np.arange(1,201)*0.05)\n",
    "    true_MSE_nathan=np.zeros(len(lamda_list))\n",
    "    worst_MSE_nathan=np.zeros(len(lamda_list))\n",
    "    est_val_nathan=np.zeros(len(lamda_list))\n",
    "    w_nathan_all=np.zeros((len(lamda_list),train_size))\n",
    "    for l in range(0,len(lamda_list)):\n",
    "        lamda=lamda_list[l]\n",
    "        w_nathan=nathans_method(lamda)\n",
    "        w_nathan_all[l]=w_nathan\n",
    "        _,_,true_MSE_nathan[l]=true_MSE(w_nathan)\n",
    "        worst_MSE_nathan[l],_=subroutine_binary_search(w_nathan,3)\n",
    "        est_val_nathan[l]=w_nathan@R_train\n",
    "    optimal_lambda=lamda_list[np.argmin(true_MSE_nathan)]\n",
    "    print('optimal lambda= ',optimal_lambda)\n",
    "    optimal_lambda_list[j]=optimal_lambda\n",
    "    true_MSE_nathan_optimal_lambda[j]=min(true_MSE_nathan)\n",
    "\n",
    "    \n",
    "    \n",
    "    t_3 = time.time()\n",
    "    print('total run time: ',t_3-t_1)"
   ]
  },
  {
   "cell_type": "code",
   "execution_count": null,
   "id": "c71cbf53",
   "metadata": {},
   "outputs": [],
   "source": [
    "#plot true MSE for both methods\n",
    "from matplotlib import pyplot\n",
    "\n",
    "plt.scatter(np.arange(numTrial), true_MSE_ours_optimal_Gamma,label='our method',alpha=0.5)\n",
    "plt.scatter(np.arange(numTrial), true_MSE_nathan_optimal_lambda,label='Nathans method',alpha=0.5)\n",
    "\n",
    "pyplot.title('true MSE')\n",
    "pyplot.xlabel('# of trial')\n",
    "pyplot.ylabel('')\n",
    "pyplot.legend(bbox_to_anchor = (1.0, 1), loc = 'upper center')\n",
    "pyplot.show()"
   ]
  },
  {
   "cell_type": "code",
   "execution_count": null,
   "id": "7d09eaad",
   "metadata": {},
   "outputs": [],
   "source": [
    "#plot optimal parameters for both methods\n",
    "from matplotlib import pyplot\n",
    "\n",
    "plt.scatter(np.arange(numTrial), optimal_Gamma_list,label='our method opt Gamma',alpha=0.5)\n",
    "plt.scatter(np.arange(numTrial), optimal_lambda_list,label='Nathans method opt lambda',alpha=0.5)\n",
    "\n",
    "pyplot.title('optimal parameters')\n",
    "pyplot.xlabel('# of trial')\n",
    "pyplot.ylabel('')\n",
    "pyplot.legend(bbox_to_anchor = (1.0, 1), loc = 'upper center')\n",
    "pyplot.show()"
   ]
  },
  {
   "cell_type": "code",
   "execution_count": null,
   "id": "7b22ff01",
   "metadata": {},
   "outputs": [],
   "source": []
  },
  {
   "cell_type": "code",
   "execution_count": null,
   "id": "83a2c69d",
   "metadata": {},
   "outputs": [],
   "source": []
  }
 ],
 "metadata": {
  "kernelspec": {
   "display_name": "Python 3",
   "language": "python",
   "name": "python3"
  },
  "language_info": {
   "codemirror_mode": {
    "name": "ipython",
    "version": 3
   },
   "file_extension": ".py",
   "mimetype": "text/x-python",
   "name": "python",
   "nbconvert_exporter": "python",
   "pygments_lexer": "ipython3",
   "version": "3.8.8"
  }
 },
 "nbformat": 4,
 "nbformat_minor": 5
}
